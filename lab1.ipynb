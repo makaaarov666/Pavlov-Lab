{
 "cells": [
  {
   "cell_type": "code",
   "execution_count": 5,
   "id": "58db69b6-1616-4527-8dfe-3034eaf19eeb",
   "metadata": {},
   "outputs": [],
   "source": [
    "# !pip install ipywidgets==7.6.4 --quiet\n",
    "from ipywidgets import FileUpload, Image, HBox"
   ]
  },
  {
   "cell_type": "code",
   "execution_count": 2,
   "id": "33cc0c36-590c-4747-9988-25cdb8951dbe",
   "metadata": {},
   "outputs": [],
   "source": [
    "def display_uploaded_screenshots(screenshots):\n",
    "\n",
    "    images = [Image(value=i) for i in screenshots]\n",
    "    ## Side by side thanks to HBox widgets\n",
    "    sidebyside = HBox(images)\n",
    "    ## Finally, show.\n",
    "    display(sidebyside)"
   ]
  },
  {
   "cell_type": "code",
   "execution_count": 3,
   "id": "302b2fab-597b-427d-bc75-327d7b2150c7",
   "metadata": {},
   "outputs": [
    {
     "data": {
      "application/vnd.jupyter.widget-view+json": {
       "model_id": "8ef5e415ae2640b8ba6f006b7f25c048",
       "version_major": 2,
       "version_minor": 0
      },
      "text/plain": [
       "FileUpload(value={}, accept='image/*', description='Upload', multiple=True)"
      ]
     },
     "metadata": {},
     "output_type": "display_data"
    }
   ],
   "source": [
    "uploader = FileUpload(accept = 'image/*', multiple = True)\n",
    "display(uploader)"
   ]
  },
  {
   "cell_type": "code",
   "execution_count": 6,
   "id": "0780f5d8-6b33-45d7-bf51-ba00e135f38b",
   "metadata": {},
   "outputs": [
    {
     "data": {
      "application/vnd.jupyter.widget-view+json": {
       "model_id": "c9ae57eec68f478ea7a2f101905db753",
       "version_major": 2,
       "version_minor": 0
      },
      "text/plain": [
       "HBox(children=(Image(value=b'\\x89PNG\\r\\n\\x1a\\n\\x00\\x00\\x00\\rIHDR\\x00\\x00\\x04\\n\\x00\\x00\\x05\\xbc\\x08\\x06\\x00\\x00…"
      ]
     },
     "metadata": {},
     "output_type": "display_data"
    }
   ],
   "source": [
    "display_uploaded_screenshots(uploader.data)"
   ]
  },
  {
   "cell_type": "code",
   "execution_count": null,
   "id": "7ab1ea76-ba09-4eaa-9fef-3e2e85bbf1b2",
   "metadata": {},
   "outputs": [],
   "source": []
  }
 ],
 "metadata": {
  "kernelspec": {
   "display_name": "Python 3 (ipykernel)",
   "language": "python",
   "name": "python3"
  },
  "language_info": {
   "codemirror_mode": {
    "name": "ipython",
    "version": 3
   },
   "file_extension": ".py",
   "mimetype": "text/x-python",
   "name": "python",
   "nbconvert_exporter": "python",
   "pygments_lexer": "ipython3",
   "version": "3.9.7"
  }
 },
 "nbformat": 4,
 "nbformat_minor": 5
}
